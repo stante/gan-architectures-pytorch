{
 "cells": [
  {
   "cell_type": "markdown",
   "metadata": {},
   "source": [
    "# Progressive GAN"
   ]
  },
  {
   "cell_type": "code",
   "execution_count": 526,
   "metadata": {},
   "outputs": [],
   "source": [
    "import torch\n",
    "import torch.nn as nn\n",
    "import torch.nn.functional as F\n",
    "from torch.optim import Adam\n",
    "from torchvision.datasets import CIFAR10\n",
    "from torchvision.transforms import Compose, ToTensor, Resize, Lambda\n",
    "from torch.utils.data import DataLoader\n",
    "import matplotlib.pyplot as plt"
   ]
  },
  {
   "cell_type": "markdown",
   "metadata": {},
   "source": [
    "# Data"
   ]
  },
  {
   "cell_type": "code",
   "execution_count": 527,
   "metadata": {},
   "outputs": [],
   "source": [
    "def transform_in_size(size):\n",
    "    return Compose([Resize((size, size)), ToTensor(), Lambda(lambda x: x * 2 - 1)])\n",
    "\n",
    "def get_dataloader(size):\n",
    "    dataset = CIFAR10('~/pytorch', train=True, download=True, transform=transform_in_size(size))\n",
    "    return DataLoader(dataset, batch_size=32, drop_last=True, shuffle=False)"
   ]
  },
  {
   "cell_type": "markdown",
   "metadata": {},
   "source": [
    "# CUDA"
   ]
  },
  {
   "cell_type": "code",
   "execution_count": 528,
   "metadata": {},
   "outputs": [
    {
     "name": "stdout",
     "output_type": "stream",
     "text": [
      "Learning on: cuda\n"
     ]
    }
   ],
   "source": [
    "if torch.cuda.is_available():\n",
    "    device = 'cuda'\n",
    "else:\n",
    "    device = 'cpu'\n",
    "    \n",
    "print(f\"Learning on: {device}\")"
   ]
  },
  {
   "cell_type": "markdown",
   "metadata": {},
   "source": [
    "# Generator\n",
    "* TODO: Change UpsamplingBilinear to interpolate()\n",
    "* TODO: Move to inner class"
   ]
  },
  {
   "cell_type": "code",
   "execution_count": 570,
   "metadata": {},
   "outputs": [],
   "source": [
    "class GeneratorBlock(nn.Module):\n",
    "    def __init__(self, in_channels, out_channels):\n",
    "        super().__init__()\n",
    "        self.upsample = nn.UpsamplingBilinear2d(scale_factor=2)\n",
    "        self.conv1 = nn.Conv2d(in_channels, out_channels, 3, padding=1)\n",
    "        self.bn1 = nn.BatchNorm2d(out_channels)\n",
    "        self.conv2 = nn.Conv2d(out_channels, out_channels, 3, padding=1)\n",
    "        self.bn2 = nn.BatchNorm2d(out_channels)\n",
    "        \n",
    "    def forward(self, x):\n",
    "        _, x = self.forward_with_img(x)\n",
    "        \n",
    "        return x\n",
    "    \n",
    "    def forward_with_img(self, x):\n",
    "        img = self.upsample(x)\n",
    "        x = F.leaky_relu(self.conv1(img))\n",
    "        x = self.bn1(x)\n",
    "        x = F.leaky_relu(self.conv2(x))\n",
    "        x = self.bn2(x)\n",
    "        \n",
    "        return img, x"
   ]
  },
  {
   "cell_type": "code",
   "execution_count": 530,
   "metadata": {},
   "outputs": [],
   "source": [
    "class Generator(nn.Module):\n",
    "    def __init__(self, channels=512):\n",
    "        super().__init__()\n",
    "        self.channels = channels\n",
    "        self.trained_blocks = nn.ModuleList()\n",
    "        self.new_block = self.create_initial_layer(channels)\n",
    "        self.rgb = self.to_rgb(channels)\n",
    "        \n",
    "    def to_rgb(self, in_channels):\n",
    "        return nn.Sequential(\n",
    "            nn.Conv2d(in_channels, 3, 1, padding=0),\n",
    "            nn.Tanh())\n",
    "    \n",
    "    def create_initial_layer(self, channels):\n",
    "        module = nn.Sequential(\n",
    "            nn.Conv2d(channels, channels, 4, padding=3),\n",
    "            nn.BatchNorm2d(channels),\n",
    "            nn.LeakyReLU(),\n",
    "            nn.Conv2d(channels, channels, 3, padding=1),\n",
    "            nn.BatchNorm2d(channels),\n",
    "            nn.LeakyReLU())\n",
    "        \n",
    "        return module\n",
    "    \n",
    "    def append_layer(self, channels):\n",
    "        self.trained_blocks.append(self.new_block)\n",
    "        self.new_block = GeneratorBlock(self.channels, channels)\n",
    "        self.rgb = self.to_rgb(channels)\n",
    "        self.channels = channels\n",
    "        \n",
    "    def forward(self, x, alpha=1.0):\n",
    "        for block in self.trained_blocks:\n",
    "            x = block(x)\n",
    "            \n",
    "        if alpha < 1.0:\n",
    "            img , x = self.new_block.forward_with_img(x)\n",
    "            img = self.rgb(img)\n",
    "            x = self.rgb(x)\n",
    "            \n",
    "            x = img * (1 - alpha) + img * alpha\n",
    "        else:\n",
    "            x = self.new_block(x)\n",
    "            x = self.rgb(x)\n",
    "        \n",
    "        return x"
   ]
  },
  {
   "cell_type": "markdown",
   "metadata": {},
   "source": [
    "# Disciminator"
   ]
  },
  {
   "cell_type": "code",
   "execution_count": 531,
   "metadata": {},
   "outputs": [],
   "source": [
    "class DiscriminatorBlock(nn.Module):\n",
    "    def __init__(self, in_channels, out_channels):\n",
    "        super().__init__()\n",
    "        self.conv1 = nn.Conv2d(in_channels, out_channels, 3, padding=1)\n",
    "        self.conv2 = nn.Conv2d(out_channels, out_channels, 3, padding=1)\n",
    "        self.downsample = nn.AvgPool2d(2, 2)\n",
    "        \n",
    "    def forward(self, x):\n",
    "        x = F.leaky_relu(self.conv1(x))\n",
    "        x = F.leaky_relu(self.conv2(x))\n",
    "        x = self.downsample(x)\n",
    "        \n",
    "        return x"
   ]
  },
  {
   "cell_type": "code",
   "execution_count": 532,
   "metadata": {},
   "outputs": [],
   "source": [
    "class Discriminator(nn.Module):\n",
    "    def __init__(self, channels=512):\n",
    "        super().__init__()\n",
    "        self.channels = channels\n",
    "        self.trained_layers = nn.ModuleList()\n",
    "        self.new_layer = self.create_initial_layer(channels)\n",
    "        self.downsample = nn.AvgPool2d(2, 2)\n",
    "        self.rgb = self.from_rgb(channels)\n",
    "        \n",
    "    def create_initial_layer(self, channels):\n",
    "        module = nn.Sequential(\n",
    "            nn.Conv2d(channels, channels, 3, padding=1),\n",
    "            nn.LeakyReLU(),\n",
    "            nn.Conv2d(channels, channels, 4, padding=0),\n",
    "            nn.LeakyReLU(),\n",
    "            nn.Flatten(),\n",
    "            nn.Linear(channels, 1))\n",
    "        \n",
    "        return module\n",
    "    \n",
    "    def prepend_layer(self, channels):\n",
    "        self.trained_layers.insert(0, self.new_layer)\n",
    "        self.new_layer = DiscriminatorBlock(channels, self.channels)\n",
    "        self.rgb = self.from_rgb(channels)\n",
    "        self.channels = channels\n",
    "        \n",
    "    def from_rgb(self, channels):\n",
    "        return nn.Conv2d(3, channels, 1, padding=0)\n",
    "        \n",
    "    def forward(self, x, alpha=1.0):\n",
    "        if alpha < 1.0:\n",
    "            skip = self.downsample(x)\n",
    "            skip = self.rgb(skip)\n",
    "\n",
    "            x = self.rgb(x)\n",
    "            x = self.new_layer(x)\n",
    "            x = skip * (1-alpha) + x * alpha\n",
    "        else:\n",
    "            x = self.rgb(x)\n",
    "            x = self.new_layer(x)\n",
    "        \n",
    "        for layer in self.trained_layers:\n",
    "            x = layer(x)\n",
    "        \n",
    "        return x"
   ]
  },
  {
   "cell_type": "code",
   "execution_count": 533,
   "metadata": {},
   "outputs": [],
   "source": [
    "def train_batch():\n",
    "    z = torch.randn(32, 512, 1, 1)\n",
    "    gen_img = g(z)\n",
    "    print(f\"Image size: {gen_img.shape}\")\n",
    "    out = d(gen_img)\n",
    "    \n",
    "    print(out.shape)"
   ]
  },
  {
   "cell_type": "code",
   "execution_count": 534,
   "metadata": {},
   "outputs": [],
   "source": [
    "g = Generator().to(device)\n",
    "d = Discriminator().to(device)"
   ]
  },
  {
   "cell_type": "code",
   "execution_count": 568,
   "metadata": {},
   "outputs": [
    {
     "ename": "TypeError",
     "evalue": "__init__() missing 1 required positional argument: 'num_features'",
     "output_type": "error",
     "traceback": [
      "\u001b[0;31m---------------------------------------------------------------------------\u001b[0m",
      "\u001b[0;31mTypeError\u001b[0m                                 Traceback (most recent call last)",
      "\u001b[0;32m<ipython-input-568-eb075a0f4608>\u001b[0m in \u001b[0;36m<module>\u001b[0;34m\u001b[0m\n\u001b[1;32m      1\u001b[0m \u001b[0;32mif\u001b[0m \u001b[0;32mTrue\u001b[0m\u001b[0;34m:\u001b[0m\u001b[0;34m\u001b[0m\u001b[0;34m\u001b[0m\u001b[0m\n\u001b[0;32m----> 2\u001b[0;31m     \u001b[0mg\u001b[0m\u001b[0;34m.\u001b[0m\u001b[0mappend_layer\u001b[0m\u001b[0;34m(\u001b[0m\u001b[0;36m512\u001b[0m\u001b[0;34m)\u001b[0m\u001b[0;34m\u001b[0m\u001b[0;34m\u001b[0m\u001b[0m\n\u001b[0m\u001b[1;32m      3\u001b[0m     \u001b[0md\u001b[0m\u001b[0;34m.\u001b[0m\u001b[0mprepend_layer\u001b[0m\u001b[0;34m(\u001b[0m\u001b[0;36m256\u001b[0m\u001b[0;34m)\u001b[0m\u001b[0;34m\u001b[0m\u001b[0;34m\u001b[0m\u001b[0m\n\u001b[1;32m      4\u001b[0m \u001b[0;34m\u001b[0m\u001b[0m\n\u001b[1;32m      5\u001b[0m     \u001b[0mg\u001b[0m \u001b[0;34m=\u001b[0m \u001b[0mg\u001b[0m\u001b[0;34m.\u001b[0m\u001b[0mto\u001b[0m\u001b[0;34m(\u001b[0m\u001b[0mdevice\u001b[0m\u001b[0;34m)\u001b[0m\u001b[0;34m\u001b[0m\u001b[0;34m\u001b[0m\u001b[0m\n",
      "\u001b[0;32m<ipython-input-530-132b487d5cbd>\u001b[0m in \u001b[0;36mappend_layer\u001b[0;34m(self, channels)\u001b[0m\n\u001b[1;32m     25\u001b[0m     \u001b[0;32mdef\u001b[0m \u001b[0mappend_layer\u001b[0m\u001b[0;34m(\u001b[0m\u001b[0mself\u001b[0m\u001b[0;34m,\u001b[0m \u001b[0mchannels\u001b[0m\u001b[0;34m)\u001b[0m\u001b[0;34m:\u001b[0m\u001b[0;34m\u001b[0m\u001b[0;34m\u001b[0m\u001b[0m\n\u001b[1;32m     26\u001b[0m         \u001b[0mself\u001b[0m\u001b[0;34m.\u001b[0m\u001b[0mtrained_blocks\u001b[0m\u001b[0;34m.\u001b[0m\u001b[0mappend\u001b[0m\u001b[0;34m(\u001b[0m\u001b[0mself\u001b[0m\u001b[0;34m.\u001b[0m\u001b[0mnew_block\u001b[0m\u001b[0;34m)\u001b[0m\u001b[0;34m\u001b[0m\u001b[0;34m\u001b[0m\u001b[0m\n\u001b[0;32m---> 27\u001b[0;31m         \u001b[0mself\u001b[0m\u001b[0;34m.\u001b[0m\u001b[0mnew_block\u001b[0m \u001b[0;34m=\u001b[0m \u001b[0mGeneratorBlock\u001b[0m\u001b[0;34m(\u001b[0m\u001b[0mself\u001b[0m\u001b[0;34m.\u001b[0m\u001b[0mchannels\u001b[0m\u001b[0;34m,\u001b[0m \u001b[0mchannels\u001b[0m\u001b[0;34m)\u001b[0m\u001b[0;34m\u001b[0m\u001b[0;34m\u001b[0m\u001b[0m\n\u001b[0m\u001b[1;32m     28\u001b[0m         \u001b[0mself\u001b[0m\u001b[0;34m.\u001b[0m\u001b[0mrgb\u001b[0m \u001b[0;34m=\u001b[0m \u001b[0mself\u001b[0m\u001b[0;34m.\u001b[0m\u001b[0mto_rgb\u001b[0m\u001b[0;34m(\u001b[0m\u001b[0mchannels\u001b[0m\u001b[0;34m)\u001b[0m\u001b[0;34m\u001b[0m\u001b[0;34m\u001b[0m\u001b[0m\n\u001b[1;32m     29\u001b[0m         \u001b[0mself\u001b[0m\u001b[0;34m.\u001b[0m\u001b[0mchannels\u001b[0m \u001b[0;34m=\u001b[0m \u001b[0mchannels\u001b[0m\u001b[0;34m\u001b[0m\u001b[0;34m\u001b[0m\u001b[0m\n",
      "\u001b[0;32m<ipython-input-529-deb5a403f21b>\u001b[0m in \u001b[0;36m__init__\u001b[0;34m(self, in_channels, out_channels)\u001b[0m\n\u001b[1;32m      6\u001b[0m         \u001b[0mself\u001b[0m\u001b[0;34m.\u001b[0m\u001b[0mbn1\u001b[0m \u001b[0;34m=\u001b[0m \u001b[0mnn\u001b[0m\u001b[0;34m.\u001b[0m\u001b[0mBatchNorm2d\u001b[0m\u001b[0;34m(\u001b[0m\u001b[0mout_channels\u001b[0m\u001b[0;34m)\u001b[0m\u001b[0;34m\u001b[0m\u001b[0;34m\u001b[0m\u001b[0m\n\u001b[1;32m      7\u001b[0m         \u001b[0mself\u001b[0m\u001b[0;34m.\u001b[0m\u001b[0mconv2\u001b[0m \u001b[0;34m=\u001b[0m \u001b[0mnn\u001b[0m\u001b[0;34m.\u001b[0m\u001b[0mConv2d\u001b[0m\u001b[0;34m(\u001b[0m\u001b[0mout_channels\u001b[0m\u001b[0;34m,\u001b[0m \u001b[0mout_channels\u001b[0m\u001b[0;34m,\u001b[0m \u001b[0;36m3\u001b[0m\u001b[0;34m,\u001b[0m \u001b[0mpadding\u001b[0m\u001b[0;34m=\u001b[0m\u001b[0;36m1\u001b[0m\u001b[0;34m)\u001b[0m\u001b[0;34m\u001b[0m\u001b[0;34m\u001b[0m\u001b[0m\n\u001b[0;32m----> 8\u001b[0;31m         \u001b[0mself\u001b[0m\u001b[0;34m.\u001b[0m\u001b[0mbn2\u001b[0m \u001b[0;34m=\u001b[0m \u001b[0mnn\u001b[0m\u001b[0;34m.\u001b[0m\u001b[0mBatchNorm2d\u001b[0m\u001b[0;34m(\u001b[0m\u001b[0;34m)\u001b[0m\u001b[0;34m\u001b[0m\u001b[0;34m\u001b[0m\u001b[0m\n\u001b[0m\u001b[1;32m      9\u001b[0m \u001b[0;34m\u001b[0m\u001b[0m\n\u001b[1;32m     10\u001b[0m     \u001b[0;32mdef\u001b[0m \u001b[0mforward\u001b[0m\u001b[0;34m(\u001b[0m\u001b[0mself\u001b[0m\u001b[0;34m,\u001b[0m \u001b[0mx\u001b[0m\u001b[0;34m)\u001b[0m\u001b[0;34m:\u001b[0m\u001b[0;34m\u001b[0m\u001b[0;34m\u001b[0m\u001b[0m\n",
      "\u001b[0;31mTypeError\u001b[0m: __init__() missing 1 required positional argument: 'num_features'"
     ]
    }
   ],
   "source": [
    "if False:\n",
    "    g.append_layer(512)\n",
    "    d.prepend_layer(256)\n",
    "\n",
    "    g = g.to(device)\n",
    "    d = d.to(device)"
   ]
  },
  {
   "cell_type": "code",
   "execution_count": 569,
   "metadata": {},
   "outputs": [],
   "source": [
    "d_optim = Adam(d.parameters(), lr=0.001, betas=(0.0, 0.99))\n",
    "g_optim = Adam(g.parameters(), lr=0.001, betas=(0.0, 0.99))"
   ]
  },
  {
   "cell_type": "code",
   "execution_count": 537,
   "metadata": {},
   "outputs": [],
   "source": [
    "def train_epoch(size, alpha=1.0):\n",
    "    d_criterion = nn.BCEWithLogitsLoss()\n",
    "\n",
    "    \n",
    "    dl = get_dataloader(size)\n",
    "    real = torch.ones((32, 1)).to(device)\n",
    "    fake = torch.zeros((32, 1)).to(device)\n",
    "    g_loss_total = 0\n",
    "    d_loss_total = 0\n",
    "    it = 0\n",
    "    for real_img, y in dl:\n",
    "        # print(real_img.shape)\n",
    "        real_img = real_img.to(device)\n",
    "        out = d(real_img, alpha)\n",
    "        real_loss = d_criterion(out, real)\n",
    "        fake_img = g(torch.randn((32, 512, 1, 1), device=device))\n",
    "        out = d(fake_img, alpha)\n",
    "        fake_loss = d_criterion(out, fake)\n",
    "        d_loss = 0.5 * (real_loss + fake_loss)\n",
    "        \n",
    "        d_optim.zero_grad()\n",
    "        d_loss.backward()\n",
    "        d_optim.step()\n",
    "        \n",
    "        fake_img = g(torch.randn((32, 512, 1, 1), device=device))\n",
    "        out = d(fake_img, alpha)\n",
    "        g_loss = d_criterion(out, real)\n",
    "        \n",
    "        g_optim.zero_grad()\n",
    "        g_loss.backward()\n",
    "        g_optim.step()\n",
    "        \n",
    "        it += 1\n",
    "        g_loss_total += g_loss.item()\n",
    "        d_loss_total += d_loss.item()\n",
    "        if it % 200 == 0:\n",
    "            print(f\"G_LOSS: {g_loss_total / it:.4f} - D_LOSS: {d_loss_total / it:.4f}\")\n",
    "            g_loss_total = 0\n",
    "            d_loss_total = 0\n",
    "            it = 0\n",
    "            \n",
    "        "
   ]
  },
  {
   "cell_type": "code",
   "execution_count": 554,
   "metadata": {},
   "outputs": [
    {
     "name": "stdout",
     "output_type": "stream",
     "text": [
      "Files already downloaded and verified\n",
      "G_LOSS: 0.7196 - D_LOSS: 0.7025\n",
      "G_LOSS: 0.6986 - D_LOSS: 0.6959\n",
      "G_LOSS: 1.3653 - D_LOSS: 0.7198\n",
      "G_LOSS: 0.7022 - D_LOSS: 0.6939\n",
      "G_LOSS: 0.6988 - D_LOSS: 0.6951\n",
      "G_LOSS: 0.7178 - D_LOSS: 0.7451\n",
      "G_LOSS: 0.6995 - D_LOSS: 0.6958\n",
      "Files already downloaded and verified\n",
      "G_LOSS: 0.7389 - D_LOSS: 0.7074\n",
      "G_LOSS: 0.7014 - D_LOSS: 0.6946\n",
      "G_LOSS: 0.6991 - D_LOSS: 0.7086\n",
      "G_LOSS: 0.6942 - D_LOSS: 0.6944\n",
      "G_LOSS: 0.9823 - D_LOSS: 0.9861\n",
      "G_LOSS: 0.7064 - D_LOSS: 0.6945\n",
      "G_LOSS: 0.7020 - D_LOSS: 0.6943\n",
      "Files already downloaded and verified\n",
      "G_LOSS: 0.6957 - D_LOSS: 0.6940\n",
      "G_LOSS: 0.6968 - D_LOSS: 0.6985\n",
      "G_LOSS: 0.6984 - D_LOSS: 0.6980\n",
      "G_LOSS: 0.6947 - D_LOSS: 0.6937\n",
      "G_LOSS: 0.6977 - D_LOSS: 0.7045\n",
      "G_LOSS: 0.6941 - D_LOSS: 0.6941\n",
      "G_LOSS: 1.6355 - D_LOSS: 0.7050\n",
      "Files already downloaded and verified\n",
      "G_LOSS: 0.7011 - D_LOSS: 0.6938\n",
      "G_LOSS: 0.6969 - D_LOSS: 0.6943\n",
      "G_LOSS: 0.7016 - D_LOSS: 0.7098\n",
      "G_LOSS: 0.6971 - D_LOSS: 0.6940\n",
      "G_LOSS: 0.7089 - D_LOSS: 0.6994\n",
      "G_LOSS: 0.7053 - D_LOSS: 0.7068\n",
      "G_LOSS: 0.6959 - D_LOSS: 0.6941\n",
      "Files already downloaded and verified\n",
      "G_LOSS: 0.6964 - D_LOSS: 0.6968\n",
      "G_LOSS: 0.7002 - D_LOSS: 0.6968\n",
      "G_LOSS: 0.6986 - D_LOSS: 0.6957\n",
      "G_LOSS: 0.6977 - D_LOSS: 0.6966\n",
      "G_LOSS: 0.6962 - D_LOSS: 0.6948\n",
      "G_LOSS: 0.7035 - D_LOSS: 0.6971\n",
      "G_LOSS: 0.6959 - D_LOSS: 0.6942\n"
     ]
    }
   ],
   "source": [
    "for i in range(2):\n",
    "    train_epoch(4)"
   ]
  },
  {
   "cell_type": "code",
   "execution_count": 558,
   "metadata": {},
   "outputs": [],
   "source": [
    "image = g(torch.randn((1, 512, 1, 1), device=device))"
   ]
  },
  {
   "cell_type": "code",
   "execution_count": 559,
   "metadata": {},
   "outputs": [],
   "source": [
    "def show_image(img):\n",
    "    img = (img + 1) / 2\n",
    "    img = img.squeeze()\n",
    "    img = img.permute(1, 2, 0)\n",
    "    image = img.cpu().detach().numpy()\n",
    "    plt.imshow(image)\n",
    "    "
   ]
  },
  {
   "cell_type": "code",
   "execution_count": 560,
   "metadata": {},
   "outputs": [
    {
     "data": {
      "image/png": "[encoded data removed]",
      "text/plain": [
       "<Figure size 432x288 with 1 Axes>"
      ]
     },
     "metadata": {
      "needs_background": "light"
     },
     "output_type": "display_data"
    }
   ],
   "source": [
    "show_image(image)"
   ]
  },
  {
   "cell_type": "code",
   "execution_count": 565,
   "metadata": {},
   "outputs": [],
   "source": [
    "image = g(torch.randn((100, 512, 1, 1), device=device))\n",
    "out = d(image)"
   ]
  },
  {
   "cell_type": "code",
   "execution_count": 566,
   "metadata": {},
   "outputs": [],
   "source": [
    "f = out.sigmoid() > 0.5"
   ]
  },
  {
   "cell_type": "code",
   "execution_count": 567,
   "metadata": {},
   "outputs": [
    {
     "name": "stdout",
     "output_type": "stream",
     "text": [
      "tensor([[True],\n",
      "        [True],\n",
      "        [True],\n",
      "        [True],\n",
      "        [True],\n",
      "        [True],\n",
      "        [True],\n",
      "        [True],\n",
      "        [True],\n",
      "        [True],\n",
      "        [True],\n",
      "        [True],\n",
      "        [True],\n",
      "        [True],\n",
      "        [True],\n",
      "        [True],\n",
      "        [True],\n",
      "        [True],\n",
      "        [True],\n",
      "        [True],\n",
      "        [True],\n",
      "        [True],\n",
      "        [True],\n",
      "        [True],\n",
      "        [True],\n",
      "        [True],\n",
      "        [True],\n",
      "        [True],\n",
      "        [True],\n",
      "        [True],\n",
      "        [True],\n",
      "        [True],\n",
      "        [True],\n",
      "        [True],\n",
      "        [True],\n",
      "        [True],\n",
      "        [True],\n",
      "        [True],\n",
      "        [True],\n",
      "        [True],\n",
      "        [True],\n",
      "        [True],\n",
      "        [True],\n",
      "        [True],\n",
      "        [True],\n",
      "        [True],\n",
      "        [True],\n",
      "        [True],\n",
      "        [True],\n",
      "        [True],\n",
      "        [True],\n",
      "        [True],\n",
      "        [True],\n",
      "        [True],\n",
      "        [True],\n",
      "        [True],\n",
      "        [True],\n",
      "        [True],\n",
      "        [True],\n",
      "        [True],\n",
      "        [True],\n",
      "        [True],\n",
      "        [True],\n",
      "        [True],\n",
      "        [True],\n",
      "        [True],\n",
      "        [True],\n",
      "        [True],\n",
      "        [True],\n",
      "        [True],\n",
      "        [True],\n",
      "        [True],\n",
      "        [True],\n",
      "        [True],\n",
      "        [True],\n",
      "        [True],\n",
      "        [True],\n",
      "        [True],\n",
      "        [True],\n",
      "        [True],\n",
      "        [True],\n",
      "        [True],\n",
      "        [True],\n",
      "        [True],\n",
      "        [True],\n",
      "        [True],\n",
      "        [True],\n",
      "        [True],\n",
      "        [True],\n",
      "        [True],\n",
      "        [True],\n",
      "        [True],\n",
      "        [True],\n",
      "        [True],\n",
      "        [True],\n",
      "        [True],\n",
      "        [True],\n",
      "        [True],\n",
      "        [True],\n",
      "        [True]], device='cuda:0')\n"
     ]
    }
   ],
   "source": [
    "print(f)"
   ]
  },
  {
   "cell_type": "code",
   "execution_count": 545,
   "metadata": {},
   "outputs": [
    {
     "name": "stdout",
     "output_type": "stream",
     "text": [
      "Files already downloaded and verified\n"
     ]
    }
   ],
   "source": [
    "dl = get_dataloader(32)"
   ]
  },
  {
   "cell_type": "code",
   "execution_count": 546,
   "metadata": {},
   "outputs": [
    {
     "data": {
      "image/png": "[encoded data removed]",
      "text/plain": [
       "<Figure size 432x288 with 1 Axes>"
      ]
     },
     "metadata": {
      "needs_background": "light"
     },
     "output_type": "display_data"
    }
   ],
   "source": [
    "for i, _ in dl:\n",
    "    image = i.to(device)\n",
    "    show_image(i[1])\n",
    "    break"
   ]
  },
  {
   "cell_type": "code",
   "execution_count": null,
   "metadata": {},
   "outputs": [],
   "source": []
  }
 ],
 "metadata": {
  "kernelspec": {
   "display_name": "Python 3",
   "language": "python",
   "name": "python3"
  },
  "language_info": {
   "codemirror_mode": {
    "name": "ipython",
    "version": 3
   },
   "file_extension": ".py",
   "mimetype": "text/x-python",
   "name": "python",
   "nbconvert_exporter": "python",
   "pygments_lexer": "ipython3",
   "version": "3.7.5"
  }
 },
 "nbformat": 4,
 "nbformat_minor": 2
}
