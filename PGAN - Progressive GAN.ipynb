{
 "cells": [
  {
   "cell_type": "markdown",
   "metadata": {},
   "source": [
    "# Progressive GAN"
   ]
  },
  {
   "cell_type": "code",
   "execution_count": 2,
   "metadata": {},
   "outputs": [],
   "source": [
    "import torch\n",
    "import torch.nn as nn\n",
    "import torch.nn.functional as F"
   ]
  },
  {
   "cell_type": "markdown",
   "metadata": {},
   "source": [
    "# Generator\n",
    "* TODO: Change UpsamplingBilinear to interpolate()\n",
    "* TODO: Move to inner class"
   ]
  },
  {
   "cell_type": "code",
   "execution_count": 127,
   "metadata": {},
   "outputs": [],
   "source": [
    "class GeneratorBlock(nn.Module):\n",
    "    def __init__(self, in_channels, out_channels):\n",
    "        super().__init__()\n",
    "        self.upsample = nn.UpsamplingBilinear2d(scale_factor=2)\n",
    "        self.conv1 = nn.Conv2d(in_channels, out_channels, 3, padding=1)\n",
    "        self.conv2 = nn.Conv2d(out_channels, out_channels, 3, padding=1)\n",
    "        \n",
    "    def forward(self, x):\n",
    "        _, x = self.forward_with_img(x)\n",
    "        \n",
    "        return x\n",
    "    \n",
    "    def forward_with_img(self, x):\n",
    "        img = self.upsample(x)\n",
    "        x = F.leaky_relu(self.conv1(img))\n",
    "        x = F.leaky_relu(self.conv2(x))\n",
    "        \n",
    "        return img, x"
   ]
  },
  {
   "cell_type": "code",
   "execution_count": 171,
   "metadata": {},
   "outputs": [],
   "source": [
    "class Generator(nn.Module):\n",
    "    def __init__(self, channels=512):\n",
    "        super().__init__()\n",
    "        self.channels = channels\n",
    "        self.trained_blocks = nn.ModuleList()\n",
    "        self.new_block = self.create_initial_layer(channels)\n",
    "        self.rgb = self.to_rgb(channels)\n",
    "        \n",
    "    def to_rgb(self, in_channels):\n",
    "        return nn.Conv2d(in_channels, 3, 1, padding=0)\n",
    "    \n",
    "    def create_initial_layer(self, channels):\n",
    "        module = nn.Sequential(\n",
    "            nn.Conv2d(channels, channels, 4, padding=3),\n",
    "            nn.LeakyReLU(),\n",
    "            nn.Conv2d(channels, channels, 3, padding=1),\n",
    "            nn.LeakyReLU())\n",
    "        \n",
    "        return module\n",
    "    \n",
    "    def append_layer(self, channels):\n",
    "        self.trained_blocks.append(self.new_block)\n",
    "        self.new_block = GeneratorBlock(self.channels, channels)\n",
    "        self.rgb = self.to_rgb(channels)\n",
    "        self.channels = channels\n",
    "        \n",
    "    def forward(self, x, alpha=1.0):\n",
    "        for block in self.trained_blocks:\n",
    "            x = block(x)\n",
    "            \n",
    "        if alpha < 1.0:\n",
    "            img , x = self.new_block.forward_with_img(x)\n",
    "            img = self.rgb(img)\n",
    "            x = self.rgb(x)\n",
    "            \n",
    "            x = img * (1 - alpha) + img * alpha\n",
    "        else:\n",
    "            x = self.new_block(x)\n",
    "            x = self.rgb(x)\n",
    "        \n",
    "        return x"
   ]
  },
  {
   "cell_type": "markdown",
   "metadata": {},
   "source": [
    "# Disciminator"
   ]
  },
  {
   "cell_type": "code",
   "execution_count": 219,
   "metadata": {},
   "outputs": [],
   "source": [
    "class DiscriminatorBlock(nn.Module):\n",
    "    def __init__(self, in_channels, out_channels):\n",
    "        super().__init__()\n",
    "        self.conv1 = nn.Conv2d(in_channels, out_channels, 3, padding=1)\n",
    "        self.conv2 = nn.Conv2d(out_channels, out_channels, 3, padding=1)\n",
    "        self.downsample = nn.UpsamplingBilinear2d(scale_factor=0.5)\n",
    "        \n",
    "    def forward(self, x):\n",
    "        x = self.conv1(x)\n",
    "        x = self.conv2(x)\n",
    "        x = self.downsample(x)\n",
    "        \n",
    "        return x"
   ]
  },
  {
   "cell_type": "code",
   "execution_count": 340,
   "metadata": {},
   "outputs": [],
   "source": [
    "class Discriminator(nn.Module):\n",
    "    def __init__(self, channels=512):\n",
    "        super().__init__()\n",
    "        self.channels = channels\n",
    "        self.trained_layers = nn.ModuleList()\n",
    "        self.new_layer = self.create_initial_layer(channels)\n",
    "        self.downsample = nn.UpsamplingBilinear2d(scale_factor=0.5)\n",
    "        self.rgb = self.from_rgb(channels)\n",
    "        \n",
    "    def create_initial_layer(self, channels):\n",
    "        module = nn.Sequential(\n",
    "            nn.Conv2d(channels, channels, 3, padding=1),\n",
    "            nn.Conv2d(channels, channels, 4, padding=0),\n",
    "            nn.Flatten(),\n",
    "            nn.Linear(channels, 1))\n",
    "        \n",
    "        return module\n",
    "    \n",
    "    def prepend_layer(self, channels):\n",
    "        self.trained_layers.insert(0, self.new_layer)\n",
    "        self.new_layer = DiscriminatorBlock(channels, self.channels)\n",
    "        self.rgb = self.from_rgb(channels)\n",
    "        \n",
    "    def from_rgb(self, channels):\n",
    "        return nn.Conv2d(3, channels, 1, padding=0)\n",
    "        \n",
    "    def forward(self, x, alpha=1.0):\n",
    "        if alpha < 1.0:\n",
    "            skip = self.downsample(x)\n",
    "            skip = self.rgb(skip)\n",
    "\n",
    "            x = self.rgb(x)\n",
    "            x = self.new_layer(x)\n",
    "            x = skip * (1-alpha) + x * alpha\n",
    "        else:\n",
    "            x = self.rgb(x)\n",
    "            x = self.new_layer(x)\n",
    "        \n",
    "        for layer in self.trained_layers:\n",
    "            x = layer(x)\n",
    "        \n",
    "        return x"
   ]
  },
  {
   "cell_type": "code",
   "execution_count": 341,
   "metadata": {},
   "outputs": [],
   "source": [
    "g = Generator()\n",
    "d = Discriminator()"
   ]
  },
  {
   "cell_type": "code",
   "execution_count": 342,
   "metadata": {},
   "outputs": [],
   "source": [
    "z = torch.randn(2, 512, 1, 1)\n",
    "gen_img = g(z)"
   ]
  },
  {
   "cell_type": "code",
   "execution_count": 343,
   "metadata": {},
   "outputs": [
    {
     "name": "stdout",
     "output_type": "stream",
     "text": [
      "torch.Size([2, 3, 4, 4])\n"
     ]
    }
   ],
   "source": [
    "print(gen_img.shape)"
   ]
  },
  {
   "cell_type": "code",
   "execution_count": 344,
   "metadata": {},
   "outputs": [],
   "source": [
    "g.append_layer(128)"
   ]
  },
  {
   "cell_type": "code",
   "execution_count": 345,
   "metadata": {},
   "outputs": [
    {
     "name": "stdout",
     "output_type": "stream",
     "text": [
      "torch.Size([2, 1])\n"
     ]
    }
   ],
   "source": [
    "out = d(gen_img)"
   ]
  },
  {
   "cell_type": "code",
   "execution_count": 346,
   "metadata": {},
   "outputs": [
    {
     "name": "stdout",
     "output_type": "stream",
     "text": [
      "torch.Size([2, 1])\n"
     ]
    }
   ],
   "source": [
    "print(out.shape)"
   ]
  },
  {
   "cell_type": "code",
   "execution_count": 347,
   "metadata": {},
   "outputs": [],
   "source": [
    "d.prepend_layer(512)"
   ]
  },
  {
   "cell_type": "code",
   "execution_count": 350,
   "metadata": {},
   "outputs": [
    {
     "name": "stdout",
     "output_type": "stream",
     "text": [
      "torch.Size([2, 512, 4, 4])\n",
      "Loop: torch.Size([2, 1])\n"
     ]
    }
   ],
   "source": [
    "out = d(torch.randn(2, 3, 8, 8), 0.5)"
   ]
  },
  {
   "cell_type": "code",
   "execution_count": 351,
   "metadata": {},
   "outputs": [
    {
     "name": "stdout",
     "output_type": "stream",
     "text": [
      "torch.Size([2, 1])\n"
     ]
    }
   ],
   "source": [
    "print(out.shape)"
   ]
  },
  {
   "cell_type": "code",
   "execution_count": null,
   "metadata": {},
   "outputs": [],
   "source": []
  }
 ],
 "metadata": {
  "kernelspec": {
   "display_name": "Python 3",
   "language": "python",
   "name": "python3"
  },
  "language_info": {
   "codemirror_mode": {
    "name": "ipython",
    "version": 3
   },
   "file_extension": ".py",
   "mimetype": "text/x-python",
   "name": "python",
   "nbconvert_exporter": "python",
   "pygments_lexer": "ipython3",
   "version": "3.7.5"
  }
 },
 "nbformat": 4,
 "nbformat_minor": 2
}
