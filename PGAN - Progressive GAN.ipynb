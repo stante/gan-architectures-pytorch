{
 "cells": [
  {
   "cell_type": "markdown",
   "metadata": {},
   "source": [
    "# Progressive GAN"
   ]
  },
  {
   "cell_type": "code",
   "execution_count": 403,
   "metadata": {},
   "outputs": [],
   "source": [
    "import torch\n",
    "import torch.nn as nn\n",
    "import torch.nn.functional as F\n",
    "from torch.optim import Adam\n",
    "from torchvision.datasets import CIFAR10\n",
    "from torchvision.transforms import Compose, ToTensor, Resize\n",
    "from torch.utils.data import DataLoader"
   ]
  },
  {
   "cell_type": "markdown",
   "metadata": {},
   "source": [
    "# Data"
   ]
  },
  {
   "cell_type": "code",
   "execution_count": 404,
   "metadata": {},
   "outputs": [],
   "source": [
    "def transform_in_size(size):\n",
    "    return Compose([Resize((size, size)), ToTensor()])\n",
    "\n",
    "def get_dataloader(size):\n",
    "    dataset = CIFAR10('~/pytorch', train=True, download=True, transform=transform_in_size(size))\n",
    "    return DataLoader(dataset, batch_size=32)"
   ]
  },
  {
   "cell_type": "markdown",
   "metadata": {},
   "source": [
    "# Generator\n",
    "* TODO: Change UpsamplingBilinear to interpolate()\n",
    "* TODO: Move to inner class"
   ]
  },
  {
   "cell_type": "code",
   "execution_count": 405,
   "metadata": {},
   "outputs": [],
   "source": [
    "class GeneratorBlock(nn.Module):\n",
    "    def __init__(self, in_channels, out_channels):\n",
    "        super().__init__()\n",
    "        self.upsample = nn.UpsamplingBilinear2d(scale_factor=2)\n",
    "        self.conv1 = nn.Conv2d(in_channels, out_channels, 3, padding=1)\n",
    "        self.conv2 = nn.Conv2d(out_channels, out_channels, 3, padding=1)\n",
    "        \n",
    "    def forward(self, x):\n",
    "        _, x = self.forward_with_img(x)\n",
    "        \n",
    "        return x\n",
    "    \n",
    "    def forward_with_img(self, x):\n",
    "        img = self.upsample(x)\n",
    "        x = F.leaky_relu(self.conv1(img))\n",
    "        x = F.leaky_relu(self.conv2(x))\n",
    "        \n",
    "        return img, x"
   ]
  },
  {
   "cell_type": "code",
   "execution_count": 406,
   "metadata": {},
   "outputs": [],
   "source": [
    "class Generator(nn.Module):\n",
    "    def __init__(self, channels=512):\n",
    "        super().__init__()\n",
    "        self.channels = channels\n",
    "        self.trained_blocks = nn.ModuleList()\n",
    "        self.new_block = self.create_initial_layer(channels)\n",
    "        self.rgb = self.to_rgb(channels)\n",
    "        \n",
    "    def to_rgb(self, in_channels):\n",
    "        return nn.Conv2d(in_channels, 3, 1, padding=0)\n",
    "    \n",
    "    def create_initial_layer(self, channels):\n",
    "        module = nn.Sequential(\n",
    "            nn.Conv2d(channels, channels, 4, padding=3),\n",
    "            nn.LeakyReLU(),\n",
    "            nn.Conv2d(channels, channels, 3, padding=1),\n",
    "            nn.LeakyReLU())\n",
    "        \n",
    "        return module\n",
    "    \n",
    "    def append_layer(self, channels):\n",
    "        self.trained_blocks.append(self.new_block)\n",
    "        self.new_block = GeneratorBlock(self.channels, channels)\n",
    "        self.rgb = self.to_rgb(channels)\n",
    "        self.channels = channels\n",
    "        \n",
    "    def forward(self, x, alpha=1.0):\n",
    "        for block in self.trained_blocks:\n",
    "            x = block(x)\n",
    "            \n",
    "        if alpha < 1.0:\n",
    "            img , x = self.new_block.forward_with_img(x)\n",
    "            img = self.rgb(img)\n",
    "            x = self.rgb(x)\n",
    "            \n",
    "            x = img * (1 - alpha) + img * alpha\n",
    "        else:\n",
    "            x = self.new_block(x)\n",
    "            x = self.rgb(x)\n",
    "        \n",
    "        return x"
   ]
  },
  {
   "cell_type": "markdown",
   "metadata": {},
   "source": [
    "# Disciminator"
   ]
  },
  {
   "cell_type": "code",
   "execution_count": 407,
   "metadata": {},
   "outputs": [],
   "source": [
    "class DiscriminatorBlock(nn.Module):\n",
    "    def __init__(self, in_channels, out_channels):\n",
    "        super().__init__()\n",
    "        self.conv1 = nn.Conv2d(in_channels, out_channels, 3, padding=1)\n",
    "        self.conv2 = nn.Conv2d(out_channels, out_channels, 3, padding=1)\n",
    "        self.downsample = nn.UpsamplingBilinear2d(scale_factor=0.5)\n",
    "        \n",
    "    def forward(self, x):\n",
    "        x = self.conv1(x)\n",
    "        x = self.conv2(x)\n",
    "        x = self.downsample(x)\n",
    "        \n",
    "        return x"
   ]
  },
  {
   "cell_type": "code",
   "execution_count": 408,
   "metadata": {},
   "outputs": [],
   "source": [
    "class Discriminator(nn.Module):\n",
    "    def __init__(self, channels=512):\n",
    "        super().__init__()\n",
    "        self.channels = channels\n",
    "        self.trained_layers = nn.ModuleList()\n",
    "        self.new_layer = self.create_initial_layer(channels)\n",
    "        self.downsample = nn.UpsamplingBilinear2d(scale_factor=0.5)\n",
    "        self.rgb = self.from_rgb(channels)\n",
    "        \n",
    "    def create_initial_layer(self, channels):\n",
    "        module = nn.Sequential(\n",
    "            nn.Conv2d(channels, channels, 3, padding=1),\n",
    "            nn.Conv2d(channels, channels, 4, padding=0),\n",
    "            nn.Flatten(),\n",
    "            nn.Linear(channels, 1))\n",
    "        \n",
    "        return module\n",
    "    \n",
    "    def prepend_layer(self, channels):\n",
    "        self.trained_layers.insert(0, self.new_layer)\n",
    "        self.new_layer = DiscriminatorBlock(channels, self.channels)\n",
    "        self.rgb = self.from_rgb(channels)\n",
    "        \n",
    "    def from_rgb(self, channels):\n",
    "        return nn.Conv2d(3, channels, 1, padding=0)\n",
    "        \n",
    "    def forward(self, x, alpha=1.0):\n",
    "        if alpha < 1.0:\n",
    "            skip = self.downsample(x)\n",
    "            skip = self.rgb(skip)\n",
    "\n",
    "            x = self.rgb(x)\n",
    "            x = self.new_layer(x)\n",
    "            x = skip * (1-alpha) + x * alpha\n",
    "        else:\n",
    "            x = self.rgb(x)\n",
    "            x = self.new_layer(x)\n",
    "        \n",
    "        for layer in self.trained_layers:\n",
    "            x = layer(x)\n",
    "        \n",
    "        return x"
   ]
  },
  {
   "cell_type": "code",
   "execution_count": 409,
   "metadata": {},
   "outputs": [],
   "source": [
    "def train_batch():\n",
    "    z = torch.randn(32, 512, 1, 1)\n",
    "    gen_img = g(z)\n",
    "    print(f\"Image size: {gen_img.shape}\")\n",
    "    out = d(gen_img)\n",
    "    \n",
    "    print(out.shape)"
   ]
  },
  {
   "cell_type": "code",
   "execution_count": 410,
   "metadata": {},
   "outputs": [],
   "source": [
    "g = Generator()\n",
    "d = Discriminator()"
   ]
  },
  {
   "cell_type": "code",
   "execution_count": 417,
   "metadata": {},
   "outputs": [],
   "source": [
    "def train_epoch():\n",
    "    d_criterion = nn.BCEWithLogitsLoss()\n",
    "    d_optim = Adam(d.parameters())\n",
    "    g_optim = Adam(g.parameters())\n",
    "    \n",
    "    dl = get_dataloader(4)\n",
    "    real = torch.ones((32, 1))\n",
    "    fake = torch.zeros((32, 1))\n",
    "    g_loss_total = 0\n",
    "    d_loss_total = 0\n",
    "    it = 0\n",
    "    for real_img, y in dl:\n",
    "        # print(real_img.shape)\n",
    "        out = d(real_img)\n",
    "        real_loss = d_criterion(out, real)\n",
    "        fake_img = g(torch.randn((32, 512, 1, 1)))\n",
    "        out = d(fake_img)\n",
    "        fake_loss = d_criterion(out, fake)\n",
    "        d_loss = 0.5 * (real_loss + fake_loss)\n",
    "        \n",
    "        d_optim.zero_grad()\n",
    "        d_loss.backward()\n",
    "        d_optim.step()\n",
    "        \n",
    "        fake_img = g(torch.randn((32, 512, 1, 1)))\n",
    "        out = d(fake_img)\n",
    "        g_loss = d_criterion(out, real)\n",
    "        \n",
    "        g_optim.zero_grad()\n",
    "        g_loss.backward()\n",
    "        g_optim.step()\n",
    "        \n",
    "        it += 1\n",
    "        g_loss_total += g\n",
    "        if it % 10 == 0:\n",
    "            print(f\"G_LOSS: {g_loss_total / it:.4f} - D_LOSS: {d_loss_total / it:.4f}\")\n",
    "        "
   ]
  },
  {
   "cell_type": "code",
   "execution_count": 416,
   "metadata": {},
   "outputs": [
    {
     "name": "stdout",
     "output_type": "stream",
     "text": [
      "Files already downloaded and verified\n",
      "G_LOSS: 55.5404 - D_LOSS: 0.0000\n",
      "G_LOSS: 27.3496 - D_LOSS: 105.4875\n",
      "G_LOSS: 378.8989 - D_LOSS: 72.6059\n",
      "G_LOSS: 469.4788 - D_LOSS: 111.0616\n",
      "G_LOSS: 303.8023 - D_LOSS: 96.6940\n",
      "G_LOSS: 90.5164 - D_LOSS: 48.6301\n",
      "G_LOSS: 0.0000 - D_LOSS: 3.4300\n",
      "G_LOSS: 0.0000 - D_LOSS: 44.2696\n",
      "G_LOSS: 0.0000 - D_LOSS: 48.1975\n",
      "G_LOSS: 0.4968 - D_LOSS: 35.3923\n",
      "G_LOSS: 32.7097 - D_LOSS: 13.1348\n",
      "G_LOSS: 80.8682 - D_LOSS: 0.0001\n"
     ]
    },
    {
     "ename": "KeyboardInterrupt",
     "evalue": "",
     "output_type": "error",
     "traceback": [
      "\u001b[0;31m---------------------------------------------------------------------------\u001b[0m",
      "\u001b[0;31mKeyboardInterrupt\u001b[0m                         Traceback (most recent call last)",
      "\u001b[0;32m<ipython-input-416-db94fb113d29>\u001b[0m in \u001b[0;36m<module>\u001b[0;34m\u001b[0m\n\u001b[0;32m----> 1\u001b[0;31m \u001b[0mtrain_epoch\u001b[0m\u001b[0;34m(\u001b[0m\u001b[0;34m)\u001b[0m\u001b[0;34m\u001b[0m\u001b[0;34m\u001b[0m\u001b[0m\n\u001b[0m",
      "\u001b[0;32m<ipython-input-415-e93a790eff5f>\u001b[0m in \u001b[0;36mtrain_epoch\u001b[0;34m()\u001b[0m\n\u001b[1;32m     26\u001b[0m \u001b[0;34m\u001b[0m\u001b[0m\n\u001b[1;32m     27\u001b[0m         \u001b[0mg_optim\u001b[0m\u001b[0;34m.\u001b[0m\u001b[0mzero_grad\u001b[0m\u001b[0;34m(\u001b[0m\u001b[0;34m)\u001b[0m\u001b[0;34m\u001b[0m\u001b[0;34m\u001b[0m\u001b[0m\n\u001b[0;32m---> 28\u001b[0;31m         \u001b[0mg_loss\u001b[0m\u001b[0;34m.\u001b[0m\u001b[0mbackward\u001b[0m\u001b[0;34m(\u001b[0m\u001b[0;34m)\u001b[0m\u001b[0;34m\u001b[0m\u001b[0;34m\u001b[0m\u001b[0m\n\u001b[0m\u001b[1;32m     29\u001b[0m         \u001b[0mg_optim\u001b[0m\u001b[0;34m.\u001b[0m\u001b[0mstep\u001b[0m\u001b[0;34m(\u001b[0m\u001b[0;34m)\u001b[0m\u001b[0;34m\u001b[0m\u001b[0;34m\u001b[0m\u001b[0m\n\u001b[1;32m     30\u001b[0m \u001b[0;34m\u001b[0m\u001b[0m\n",
      "\u001b[0;32m~/opt/miniconda3/envs/pytorch13/lib/python3.7/site-packages/torch/tensor.py\u001b[0m in \u001b[0;36mbackward\u001b[0;34m(self, gradient, retain_graph, create_graph)\u001b[0m\n\u001b[1;32m    164\u001b[0m                 \u001b[0mproducts\u001b[0m\u001b[0;34m.\u001b[0m \u001b[0mDefaults\u001b[0m \u001b[0mto\u001b[0m\u001b[0;31m \u001b[0m\u001b[0;31m`\u001b[0m\u001b[0;31m`\u001b[0m\u001b[0;32mFalse\u001b[0m\u001b[0;31m`\u001b[0m\u001b[0;31m`\u001b[0m\u001b[0;34m.\u001b[0m\u001b[0;34m\u001b[0m\u001b[0;34m\u001b[0m\u001b[0m\n\u001b[1;32m    165\u001b[0m         \"\"\"\n\u001b[0;32m--> 166\u001b[0;31m         \u001b[0mtorch\u001b[0m\u001b[0;34m.\u001b[0m\u001b[0mautograd\u001b[0m\u001b[0;34m.\u001b[0m\u001b[0mbackward\u001b[0m\u001b[0;34m(\u001b[0m\u001b[0mself\u001b[0m\u001b[0;34m,\u001b[0m \u001b[0mgradient\u001b[0m\u001b[0;34m,\u001b[0m \u001b[0mretain_graph\u001b[0m\u001b[0;34m,\u001b[0m \u001b[0mcreate_graph\u001b[0m\u001b[0;34m)\u001b[0m\u001b[0;34m\u001b[0m\u001b[0;34m\u001b[0m\u001b[0m\n\u001b[0m\u001b[1;32m    167\u001b[0m \u001b[0;34m\u001b[0m\u001b[0m\n\u001b[1;32m    168\u001b[0m     \u001b[0;32mdef\u001b[0m \u001b[0mregister_hook\u001b[0m\u001b[0;34m(\u001b[0m\u001b[0mself\u001b[0m\u001b[0;34m,\u001b[0m \u001b[0mhook\u001b[0m\u001b[0;34m)\u001b[0m\u001b[0;34m:\u001b[0m\u001b[0;34m\u001b[0m\u001b[0;34m\u001b[0m\u001b[0m\n",
      "\u001b[0;32m~/opt/miniconda3/envs/pytorch13/lib/python3.7/site-packages/torch/autograd/__init__.py\u001b[0m in \u001b[0;36mbackward\u001b[0;34m(tensors, grad_tensors, retain_graph, create_graph, grad_variables)\u001b[0m\n\u001b[1;32m     97\u001b[0m     Variable._execution_engine.run_backward(\n\u001b[1;32m     98\u001b[0m         \u001b[0mtensors\u001b[0m\u001b[0;34m,\u001b[0m \u001b[0mgrad_tensors\u001b[0m\u001b[0;34m,\u001b[0m \u001b[0mretain_graph\u001b[0m\u001b[0;34m,\u001b[0m \u001b[0mcreate_graph\u001b[0m\u001b[0;34m,\u001b[0m\u001b[0;34m\u001b[0m\u001b[0;34m\u001b[0m\u001b[0m\n\u001b[0;32m---> 99\u001b[0;31m         allow_unreachable=True)  # allow_unreachable flag\n\u001b[0m\u001b[1;32m    100\u001b[0m \u001b[0;34m\u001b[0m\u001b[0m\n\u001b[1;32m    101\u001b[0m \u001b[0;34m\u001b[0m\u001b[0m\n",
      "\u001b[0;31mKeyboardInterrupt\u001b[0m: "
     ]
    }
   ],
   "source": [
    "train_epoch()"
   ]
  },
  {
   "cell_type": "code",
   "execution_count": null,
   "metadata": {},
   "outputs": [],
   "source": []
  }
 ],
 "metadata": {
  "kernelspec": {
   "display_name": "Python 3",
   "language": "python",
   "name": "python3"
  },
  "language_info": {
   "codemirror_mode": {
    "name": "ipython",
    "version": 3
   },
   "file_extension": ".py",
   "mimetype": "text/x-python",
   "name": "python",
   "nbconvert_exporter": "python",
   "pygments_lexer": "ipython3",
   "version": "3.7.5"
  }
 },
 "nbformat": 4,
 "nbformat_minor": 2
}
